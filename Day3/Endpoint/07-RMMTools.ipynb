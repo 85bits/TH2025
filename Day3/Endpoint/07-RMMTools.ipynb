{
 "cells": [
  {
   "cell_type": "markdown",
   "metadata": {},
   "source": [
    "# Hypothesis\n",
    "An adversary may use legitimate desktop support and remote access software to establish an interactive command and control channel"
   ]
  },
  {
   "cell_type": "code",
   "execution_count": null,
   "metadata": {},
   "outputs": [],
   "source": [
    "import pandas as pd\n",
    "\n",
    "df_base = pd.read_csv('sample_data/batilaptop-01.csv')\n",
    "columns_to_keep = ['Event Time', 'Action Type', 'File Name', 'Folder Path', 'Sha1', 'Sha256', 'MD5', 'Account Name',\n",
    "                   'Initiating Process File Name', 'Initiating Process Folder Path', 'Process Command Line',\n",
    "                   'Process Id', 'Initiating Process Folder Path', 'Initiating Process Parent File Name', 'Remote Url',\n",
    "                   'Remote IP', 'Remote IP', 'Remote Port', 'Local IP', 'Local Port',\n",
    "                   'File Origin Url', 'File Origin IP', 'File Origin Referrer Url', 'Categories', 'Severities']\n",
    "df = df_base[columns_to_keep].copy()\n",
    "\n",
    "# Remote access tool process names\n",
    "remote_access_tools = ['vnc', 'teamviewer', 'anydesk', 'screenconnect', 'logmein', 'ammyyadmin','tightvnc','QuickAssist']\n",
    "\n",
    "# Filter for remote access tool events\n",
    "remote_access_events = df[df['File Name'].str.lower().str.contains('|'.join(remote_access_tools), na=False)]\n",
    "\n",
    "if not remote_access_events.empty:\n",
    "    print(\"Remote Access Tool Events Found:\")\n",
    "    print(remote_access_events[['Event Time', 'File Name', 'Process Command Line', 'Account Name', 'Remote IP', 'Remote Port']])\n",
    "\n",
    "    # Analyze remote access tool activity\n",
    "    for index, row in remote_access_events.iterrows():\n",
    "        file_name = row['File Name']\n",
    "        command_line = row['Process Command Line']\n",
    "        account_name = row['Account Name']\n",
    "        remote_ip = row['Remote IP']\n",
    "        remote_port = row['Remote Port']\n",
    "\n",
    "        print(f\"\\nRemote Access Activity: {file_name}, Account: {account_name}, Remote IP: {remote_ip}, Remote Port: {remote_port}, Time: {row['Event Time']}\")\n",
    "        if pd.notna(command_line):\n",
    "           print(f\"Command line: {command_line}\")\n",
    "\n",
    "\n",
    "else:\n",
    "    print(\"No remote access tool events found in the dataset.\")"
   ]
  }
 ],
 "metadata": {
  "kernelspec": {
   "display_name": "usr",
   "language": "python",
   "name": "python3"
  },
  "language_info": {
   "name": "python",
   "version": "3.12.4"
  }
 },
 "nbformat": 4,
 "nbformat_minor": 2
}
