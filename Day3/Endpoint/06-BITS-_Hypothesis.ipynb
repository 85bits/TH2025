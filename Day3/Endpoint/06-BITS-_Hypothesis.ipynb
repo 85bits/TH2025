{
 "cells": [
  {
   "cell_type": "markdown",
   "metadata": {},
   "source": [
    "# Hypothesis\n",
    "Threat actors are using BITS to download and execute malicious code"
   ]
  },
  {
   "cell_type": "code",
   "execution_count": null,
   "metadata": {},
   "outputs": [],
   "source": [
    "import pandas as pd\n",
    "\n",
    "df_base = pd.read_csv('sample_data/batilaptop-01.csv')\n",
    "columns_to_keep = ['Event Time', 'Action Type', 'File Name', 'Folder Path', 'Sha1', 'Sha256', 'MD5', 'Account Name',\n",
    "                   'Initiating Process File Name', 'Initiating Process Command Line', 'Initiating Process Folder Path', 'Process Command Line',\n",
    "                   'Process Id', 'Initiating Process Folder Path', 'Initiating Process Parent File Name', 'Remote Url',\n",
    "                   'Remote IP', 'Remote IP', 'Remote Port', 'Local IP', 'Local Port',\n",
    "                   'File Origin Url', 'File Origin IP', 'File Origin Referrer Url', 'Categories', 'Severities']\n",
    "df = df_base[columns_to_keep].copy()\n",
    "\n",
    "# Filter for BITS-related events\n",
    "bits_events = df[df['Process Command Line'].str.contains('BITS', na=False)]\n",
    "\n",
    "if not bits_events.empty:\n",
    "    print(\"BITS-Related Events Found:\")\n",
    "    print(bits_events[['Event Time', 'Account Name', 'Process Command Line', 'Remote Url']])\n",
    "\n",
    "    # Analyze BITS command-line arguments\n",
    "    for index, row in bits_events.iterrows():\n",
    "        command_line = row['Process Command Line']\n",
    "        if pd.notna(command_line):\n",
    "            if 'bitsadmin' in command_line.lower():\n",
    "                print(f\"\\nBITS Command Line: {command_line}\")\n",
    "                # Add further analysis here, such as checking for suspicious arguments\n",
    "                # and remote URLs.\n",
    "else:\n",
    "    print(\"No BITS-related events found in the dataset.\")"
   ]
  }
 ],
 "metadata": {
  "kernelspec": {
   "display_name": "usr",
   "language": "python",
   "name": "python3"
  },
  "language_info": {
   "name": "python",
   "version": "3.12.4"
  }
 },
 "nbformat": 4,
 "nbformat_minor": 2
}
